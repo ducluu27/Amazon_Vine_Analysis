{
  "nbformat": 4,
  "nbformat_minor": 0,
  "metadata": {
    "colab": {
      "name": "Vine_Review_Analysis.ipynb",
      "provenance": []
    },
    "kernelspec": {
      "name": "python3",
      "display_name": "Python 3"
    }
  },
  "cells": [
    {
      "cell_type": "code",
      "metadata": {
        "id": "yRHSkPHlzJxW",
        "outputId": "46b3c154-fe82-4264-9f34-38310d979a5d",
        "colab": {
          "base_uri": "https://localhost:8080/"
        }
      },
      "source": [
        "import os\n",
        "# Find the latest version of spark 2.0  from http://www-us.apache.org/dist/spark/ and enter as the spark version\n",
        "# For example:\n",
        "# spark_version = 'spark-3.0.0'\n",
        "spark_version = 'spark-3.0.1'\n",
        "os.environ['SPARK_VERSION']=spark_version\n",
        "\n",
        "# Install Spark and Java\n",
        "!apt-get update\n",
        "!apt-get install openjdk-11-jdk-headless -qq > /dev/null\n",
        "!wget -q http://www-us.apache.org/dist/spark/$SPARK_VERSION/$SPARK_VERSION-bin-hadoop2.7.tgz\n",
        "!tar xf $SPARK_VERSION-bin-hadoop2.7.tgz\n",
        "!pip install -q findspark\n",
        "\n",
        "# Set Environment Variables\n",
        "import os\n",
        "os.environ[\"JAVA_HOME\"] = \"/usr/lib/jvm/java-11-openjdk-amd64\"\n",
        "os.environ[\"SPARK_HOME\"] = f\"/content/{spark_version}-bin-hadoop2.7\"\n",
        "\n",
        "# Start a SparkSession\n",
        "import findspark\n",
        "findspark.init()"
      ],
      "execution_count": 1,
      "outputs": [
        {
          "output_type": "stream",
          "text": [
            "\r0% [Working]\r            \rHit:1 http://security.ubuntu.com/ubuntu bionic-security InRelease\n",
            "\r0% [Connecting to archive.ubuntu.com (91.189.88.142)] [Connected to cloud.r-pro\r0% [1 InRelease gpgv 88.7 kB] [Connecting to archive.ubuntu.com (91.189.88.142)\r                                                                               \rHit:2 https://cloud.r-project.org/bin/linux/ubuntu bionic-cran40/ InRelease\n",
            "\r0% [1 InRelease gpgv 88.7 kB] [Connecting to archive.ubuntu.com (91.189.88.142)\r                                                                               \rIgn:3 https://developer.download.nvidia.com/compute/cuda/repos/ubuntu1804/x86_64  InRelease\n",
            "\r0% [1 InRelease gpgv 88.7 kB] [Connecting to archive.ubuntu.com (91.189.88.142)\r                                                                               \rIgn:4 https://developer.download.nvidia.com/compute/machine-learning/repos/ubuntu1804/x86_64  InRelease\n",
            "\r                                                                               \r0% [1 InRelease gpgv 88.7 kB] [Waiting for headers] [Waiting for headers]\r                                                                         \rHit:5 https://developer.download.nvidia.com/compute/cuda/repos/ubuntu1804/x86_64  Release\n",
            "\r0% [1 InRelease gpgv 88.7 kB] [Waiting for headers] [Waiting for headers]\r                                                                         \rHit:6 https://developer.download.nvidia.com/compute/machine-learning/repos/ubuntu1804/x86_64  Release\n",
            "\r0% [1 InRelease gpgv 88.7 kB] [Waiting for headers] [Waiting for headers]\r                                                                         \rHit:7 http://ppa.launchpad.net/c2d4u.team/c2d4u4.0+/ubuntu bionic InRelease\n",
            "Hit:8 http://archive.ubuntu.com/ubuntu bionic InRelease\n",
            "Hit:9 http://archive.ubuntu.com/ubuntu bionic-updates InRelease\n",
            "Hit:10 http://ppa.launchpad.net/graphics-drivers/ppa/ubuntu bionic InRelease\n",
            "Hit:11 http://archive.ubuntu.com/ubuntu bionic-backports InRelease\n",
            "Reading package lists... Done\n"
          ],
          "name": "stdout"
        }
      ]
    },
    {
      "cell_type": "code",
      "metadata": {
        "id": "-_LK5jeqzSJN"
      },
      "source": [
        "from pyspark.sql import SparkSession\n",
        "spark = SparkSession.builder.appName(\"BigData-Challenge\").config(\"spark.driver.extraClassPath\",\"/content/postgresql-42.2.16.jar\").getOrCreate()"
      ],
      "execution_count": 2,
      "outputs": []
    },
    {
      "cell_type": "code",
      "metadata": {
        "id": "nqrQ06Qp38Qc",
        "outputId": "c65a09dc-780d-4572-e212-21e3acf860ee",
        "colab": {
          "base_uri": "https://localhost:8080/"
        }
      },
      "source": [
        "# Download the Postgres driver that will allow Spark to interact with Postgres.\n",
        "!wget https://jdbc.postgresql.org/download/postgresql-42.2.16.jar"
      ],
      "execution_count": 3,
      "outputs": [
        {
          "output_type": "stream",
          "text": [
            "--2020-11-14 17:19:55--  https://jdbc.postgresql.org/download/postgresql-42.2.16.jar\n",
            "Resolving jdbc.postgresql.org (jdbc.postgresql.org)... 72.32.157.228, 2001:4800:3e1:1::228\n",
            "Connecting to jdbc.postgresql.org (jdbc.postgresql.org)|72.32.157.228|:443... connected.\n",
            "HTTP request sent, awaiting response... 200 OK\n",
            "Length: 1002883 (979K) [application/java-archive]\n",
            "Saving to: ‘postgresql-42.2.16.jar.1’\n",
            "\n",
            "postgresql-42.2.16. 100%[===================>] 979.38K  --.-KB/s    in 0.1s    \n",
            "\n",
            "2020-11-14 17:19:56 (8.92 MB/s) - ‘postgresql-42.2.16.jar.1’ saved [1002883/1002883]\n",
            "\n"
          ],
          "name": "stdout"
        }
      ]
    },
    {
      "cell_type": "code",
      "metadata": {
        "id": "3hMHKSiR3_WL"
      },
      "source": [
        "# Configure settings for RDS\n",
        "mode = \"append\"\n",
        "jdbc_url=\"jdbc:postgresql://dataviz.crnebbbwgpbv.us-east-2.rds.amazonaws.com:5432/Challenge\"\n",
        "config = {\"user\":\"postgres\",\n",
        "          \"password\": \"password\",\n",
        "          \"driver\":\"org.postgresql.Driver\"}"
      ],
      "execution_count": 6,
      "outputs": []
    },
    {
      "cell_type": "code",
      "metadata": {
        "id": "PnLdHCyk4Bp1"
      },
      "source": [
        "vine_table_df = spark.read.jdbc(url=jdbc_url, table=\"vine_table\", properties=config)"
      ],
      "execution_count": 7,
      "outputs": []
    },
    {
      "cell_type": "code",
      "metadata": {
        "id": "huk-VJuN60Kc",
        "outputId": "cade1297-c444-4be6-89db-f757598901c3",
        "colab": {
          "base_uri": "https://localhost:8080/"
        }
      },
      "source": [
        "vine_table_df = vine_table_df.filter(\"total_votes >= 20\")\n",
        "vine_table_df.show()"
      ],
      "execution_count": 8,
      "outputs": [
        {
          "output_type": "stream",
          "text": [
            "+--------------+-----------+-------------+-----------+----+-----------------+\n",
            "|     review_id|star_rating|helpful_votes|total_votes|vine|verified_purchase|\n",
            "+--------------+-----------+-------------+-----------+----+-----------------+\n",
            "| R9KUD77KL30OW|          1|           34|         37|   N|                Y|\n",
            "| RT9FA5RTGR227|          3|           18|         21|   N|                Y|\n",
            "| R75E5C0D4B4BO|          5|           96|         96|   N|                Y|\n",
            "|R2W2XRKRI6F34M|          4|           41|         44|   N|                Y|\n",
            "|R16UIXY20Z1KEN|          1|           43|         58|   N|                Y|\n",
            "|R26MG5HTIQ3THC|          1|           12|         27|   N|                N|\n",
            "|R1YAS14SEOHCKR|          1|           26|         27|   N|                Y|\n",
            "|R3BB7YXWNRR7BQ|          3|           19|         23|   N|                Y|\n",
            "|R1QFAGDAVZX7CC|          3|           40|         47|   N|                N|\n",
            "|R1L2Q87GINYW9O|          5|           68|         69|   N|                Y|\n",
            "|R28XPXOAKTOGDC|          1|           34|         39|   N|                Y|\n",
            "|R2MNKW1D0ODE8N|          5|           21|         22|   N|                N|\n",
            "| RRJJXGNC5PET7|          5|           20|         21|   N|                Y|\n",
            "| RUV0QAZNSJQ3K|          4|           21|         26|   N|                Y|\n",
            "| RYOW1V5MEXURL|          3|           21|         25|   N|                Y|\n",
            "|R1NJDX7CNGUNM7|          5|           64|         69|   N|                Y|\n",
            "|  RN1V2WUC7ILM|          5|          146|        154|   N|                Y|\n",
            "|R1QC0O8ZE94C65|          5|           32|         39|   N|                Y|\n",
            "| RYHEXJ9F6WJFL|          1|          141|        157|   N|                Y|\n",
            "|R203NGS7V51DWY|          1|           21|         26|   N|                Y|\n",
            "+--------------+-----------+-------------+-----------+----+-----------------+\n",
            "only showing top 20 rows\n",
            "\n"
          ],
          "name": "stdout"
        }
      ]
    },
    {
      "cell_type": "code",
      "metadata": {
        "id": "wuoLzwblHVlG"
      },
      "source": [
        "vine_df2 = vine_table_df.filter(vine_table_df[\"total_votes\"]>=20)\n",
        "vine_df3 = vine_df2.filter(vine_df2[\"helpful_votes\"]/vine_df2[\"total_votes\"]>=0.5)"
      ],
      "execution_count": 9,
      "outputs": []
    },
    {
      "cell_type": "code",
      "metadata": {
        "id": "SGCgU_wREjTF",
        "outputId": "c6a13f89-5e4a-485d-94f0-ea8f2c1af908",
        "colab": {
          "base_uri": "https://localhost:8080/"
        }
      },
      "source": [
        "vine_df3.show()"
      ],
      "execution_count": 10,
      "outputs": [
        {
          "output_type": "stream",
          "text": [
            "+--------------+-----------+-------------+-----------+----+-----------------+\n",
            "|     review_id|star_rating|helpful_votes|total_votes|vine|verified_purchase|\n",
            "+--------------+-----------+-------------+-----------+----+-----------------+\n",
            "| R9KUD77KL30OW|          1|           34|         37|   N|                Y|\n",
            "| RT9FA5RTGR227|          3|           18|         21|   N|                Y|\n",
            "| R75E5C0D4B4BO|          5|           96|         96|   N|                Y|\n",
            "|R2W2XRKRI6F34M|          4|           41|         44|   N|                Y|\n",
            "|R16UIXY20Z1KEN|          1|           43|         58|   N|                Y|\n",
            "|R1YAS14SEOHCKR|          1|           26|         27|   N|                Y|\n",
            "|R3BB7YXWNRR7BQ|          3|           19|         23|   N|                Y|\n",
            "|R1QFAGDAVZX7CC|          3|           40|         47|   N|                N|\n",
            "|R1L2Q87GINYW9O|          5|           68|         69|   N|                Y|\n",
            "|R28XPXOAKTOGDC|          1|           34|         39|   N|                Y|\n",
            "|R2MNKW1D0ODE8N|          5|           21|         22|   N|                N|\n",
            "| RRJJXGNC5PET7|          5|           20|         21|   N|                Y|\n",
            "| RUV0QAZNSJQ3K|          4|           21|         26|   N|                Y|\n",
            "| RYOW1V5MEXURL|          3|           21|         25|   N|                Y|\n",
            "|R1NJDX7CNGUNM7|          5|           64|         69|   N|                Y|\n",
            "|  RN1V2WUC7ILM|          5|          146|        154|   N|                Y|\n",
            "|R1QC0O8ZE94C65|          5|           32|         39|   N|                Y|\n",
            "| RYHEXJ9F6WJFL|          1|          141|        157|   N|                Y|\n",
            "|R203NGS7V51DWY|          1|           21|         26|   N|                Y|\n",
            "|R2LV3AWMD9TVTE|          1|           21|         24|   N|                Y|\n",
            "+--------------+-----------+-------------+-----------+----+-----------------+\n",
            "only showing top 20 rows\n",
            "\n"
          ],
          "name": "stdout"
        }
      ]
    },
    {
      "cell_type": "code",
      "metadata": {
        "id": "jMSflLFUTgDM"
      },
      "source": [
        "vine_paid_df = vine_df3.filter(vine_df3[\"vine\"]==\"Y\")"
      ],
      "execution_count": 11,
      "outputs": []
    },
    {
      "cell_type": "code",
      "metadata": {
        "id": "wEpDY9nxU_82",
        "outputId": "06e232e4-d230-4f9e-b5de-b601b8f38612",
        "colab": {
          "base_uri": "https://localhost:8080/"
        }
      },
      "source": [
        "vine_paid_df.show()"
      ],
      "execution_count": 12,
      "outputs": [
        {
          "output_type": "stream",
          "text": [
            "+--------------+-----------+-------------+-----------+----+-----------------+\n",
            "|     review_id|star_rating|helpful_votes|total_votes|vine|verified_purchase|\n",
            "+--------------+-----------+-------------+-----------+----+-----------------+\n",
            "| REIVEVPMTQN6I|          3|           36|         45|   Y|                N|\n",
            "| R439N6WDCV4IF|          3|           59|         68|   Y|                N|\n",
            "|R3NDAQ2XAEKM0J|          1|           33|         40|   Y|                N|\n",
            "| R9L1TDFPFXBOU|          4|           29|         30|   Y|                N|\n",
            "|R1S3N2W0P3KJ2Z|          3|           46|         47|   Y|                N|\n",
            "| R2QWFFNM5CZHD|          5|          257|        264|   Y|                N|\n",
            "|R1IGUULSJIS9Q6|          3|           21|         26|   Y|                N|\n",
            "|R2WN72XKRQ8D1U|          5|           87|         91|   Y|                N|\n",
            "|R1DJPG0OL6OP4H|          3|          414|        491|   Y|                N|\n",
            "|R1TR9RQXUVEOXT|          3|          163|        170|   Y|                N|\n",
            "|R2558BMKF7HK0D|          1|          720|        928|   Y|                N|\n",
            "|R2ERGXHFS0SAKZ|          4|           22|         26|   Y|                N|\n",
            "|R1GAAUMBPI14WJ|          5|           58|         61|   Y|                N|\n",
            "| RM0ASR878GV2G|          5|           92|         95|   Y|                N|\n",
            "|R152LPKMKNH0QY|          5|           98|        128|   Y|                N|\n",
            "|R1LWIZ3MHYJNQ8|          5|           69|         89|   Y|                N|\n",
            "| RMNVP76U8TCJU|          4|           64|         82|   Y|                N|\n",
            "|R2BNM7CW0NHS0H|          4|          502|        589|   Y|                N|\n",
            "| RPP36Q4SA7VND|          2|           21|         28|   Y|                N|\n",
            "|R1WG2F3DZFE301|          5|           51|         81|   Y|                N|\n",
            "+--------------+-----------+-------------+-----------+----+-----------------+\n",
            "only showing top 20 rows\n",
            "\n"
          ],
          "name": "stdout"
        }
      ]
    },
    {
      "cell_type": "code",
      "metadata": {
        "id": "QiZ61ec1VCjF"
      },
      "source": [
        "vine_notpaid_df = vine_df3.filter(vine_df3[\"vine\"]==\"N\")"
      ],
      "execution_count": 13,
      "outputs": []
    },
    {
      "cell_type": "code",
      "metadata": {
        "id": "Gr_AAZDxVIzP",
        "outputId": "217dd492-3f3b-4503-e0b7-cebad593a93c",
        "colab": {
          "base_uri": "https://localhost:8080/"
        }
      },
      "source": [
        "vine_notpaid_df.show()"
      ],
      "execution_count": 14,
      "outputs": [
        {
          "output_type": "stream",
          "text": [
            "+--------------+-----------+-------------+-----------+----+-----------------+\n",
            "|     review_id|star_rating|helpful_votes|total_votes|vine|verified_purchase|\n",
            "+--------------+-----------+-------------+-----------+----+-----------------+\n",
            "| R9KUD77KL30OW|          1|           34|         37|   N|                Y|\n",
            "| RT9FA5RTGR227|          3|           18|         21|   N|                Y|\n",
            "| R75E5C0D4B4BO|          5|           96|         96|   N|                Y|\n",
            "|R2W2XRKRI6F34M|          4|           41|         44|   N|                Y|\n",
            "|R16UIXY20Z1KEN|          1|           43|         58|   N|                Y|\n",
            "|R1YAS14SEOHCKR|          1|           26|         27|   N|                Y|\n",
            "|R3BB7YXWNRR7BQ|          3|           19|         23|   N|                Y|\n",
            "|R1QFAGDAVZX7CC|          3|           40|         47|   N|                N|\n",
            "|R1L2Q87GINYW9O|          5|           68|         69|   N|                Y|\n",
            "|R28XPXOAKTOGDC|          1|           34|         39|   N|                Y|\n",
            "|R2MNKW1D0ODE8N|          5|           21|         22|   N|                N|\n",
            "| RRJJXGNC5PET7|          5|           20|         21|   N|                Y|\n",
            "| RUV0QAZNSJQ3K|          4|           21|         26|   N|                Y|\n",
            "| RYOW1V5MEXURL|          3|           21|         25|   N|                Y|\n",
            "|R1NJDX7CNGUNM7|          5|           64|         69|   N|                Y|\n",
            "|  RN1V2WUC7ILM|          5|          146|        154|   N|                Y|\n",
            "|R1QC0O8ZE94C65|          5|           32|         39|   N|                Y|\n",
            "| RYHEXJ9F6WJFL|          1|          141|        157|   N|                Y|\n",
            "|R203NGS7V51DWY|          1|           21|         26|   N|                Y|\n",
            "|R2LV3AWMD9TVTE|          1|           21|         24|   N|                Y|\n",
            "+--------------+-----------+-------------+-----------+----+-----------------+\n",
            "only showing top 20 rows\n",
            "\n"
          ],
          "name": "stdout"
        }
      ]
    },
    {
      "cell_type": "code",
      "metadata": {
        "id": "AfCqqJPOVKKd",
        "outputId": "521cdffd-8c89-4ee5-f711-68437e8fddaa",
        "colab": {
          "base_uri": "https://localhost:8080/"
        }
      },
      "source": [
        "# Total number of paid 5 star review\n",
        "paid_df = vine_paid_df.filter(vine_paid_df[\"star_rating\"]==\"5\")\n",
        "paid_df.count()"
      ],
      "execution_count": 75,
      "outputs": [
        {
          "output_type": "execute_result",
          "data": {
            "text/plain": [
              "139"
            ]
          },
          "metadata": {
            "tags": []
          },
          "execution_count": 75
        }
      ]
    },
    {
      "cell_type": "code",
      "metadata": {
        "id": "iIxpiiZvcIRI",
        "outputId": "10746f6b-1792-4356-babf-b94bfb16885c",
        "colab": {
          "base_uri": "https://localhost:8080/"
        }
      },
      "source": [
        "# Total number of not paid 5 star review\n",
        "notpaid_df = vine_notpaid_df.filter(vine_notpaid_df[\"star_rating\"]==\"5\")\n",
        "notpaid_df.count()"
      ],
      "execution_count": 16,
      "outputs": [
        {
          "output_type": "execute_result",
          "data": {
            "text/plain": [
              "32665"
            ]
          },
          "metadata": {
            "tags": []
          },
          "execution_count": 16
        }
      ]
    },
    {
      "cell_type": "code",
      "metadata": {
        "id": "aGYW8ica8Jsy"
      },
      "source": [
        "from pyspark.sql.functions import count"
      ],
      "execution_count": 24,
      "outputs": []
    },
    {
      "cell_type": "code",
      "metadata": {
        "id": "5KR8UcgdLbe5",
        "outputId": "59063822-dab7-49d6-fde5-668e08044238",
        "colab": {
          "base_uri": "https://localhost:8080/"
        }
      },
      "source": [
        "# Table with star_rating total of paid\n",
        "percentage_df = vine_paid_df.groupby(\"star_rating\").agg(count(\"star_rating\")).withColumnRenamed(\"count(star_rating)\",\"total\")\n",
        "percentage_paid_df = percentage_df.orderBy(percentage_df[\"star_rating\"].desc())\n",
        "percentage_paid_df.show()"
      ],
      "execution_count": 89,
      "outputs": [
        {
          "output_type": "stream",
          "text": [
            "+-----------+-----+\n",
            "|star_rating|total|\n",
            "+-----------+-----+\n",
            "|          5|  139|\n",
            "|          4|  118|\n",
            "|          3|   56|\n",
            "|          2|   13|\n",
            "|          1|    8|\n",
            "+-----------+-----+\n",
            "\n"
          ],
          "name": "stdout"
        }
      ]
    },
    {
      "cell_type": "code",
      "metadata": {
        "id": "dZqwkTSXUmXT",
        "outputId": "29f66d5d-e448-4eca-b38b-11af01da032f",
        "colab": {
          "base_uri": "https://localhost:8080/"
        }
      },
      "source": [
        "# Total count of paid 5 star ratings review \n",
        "y = vine_paid_df.count()\n",
        "print(y)"
      ],
      "execution_count": 91,
      "outputs": [
        {
          "output_type": "stream",
          "text": [
            "334\n"
          ],
          "name": "stdout"
        }
      ]
    },
    {
      "cell_type": "code",
      "metadata": {
        "id": "a7PSVvw1M-eh",
        "outputId": "5354d7e4-d206-4cf6-95db-b04f28c0edb0",
        "colab": {
          "base_uri": "https://localhost:8080/"
        }
      },
      "source": [
        "# Percentage of paid 5 star reviews\n",
        "percentage_paid_df.withColumn(\"percentage\", percentage_df[\"total\"]/y *100).show()"
      ],
      "execution_count": 90,
      "outputs": [
        {
          "output_type": "stream",
          "text": [
            "+-----------+-----+------------------+\n",
            "|star_rating|total|        percentage|\n",
            "+-----------+-----+------------------+\n",
            "|          5|  139| 41.61676646706587|\n",
            "|          4|  118| 35.32934131736527|\n",
            "|          3|   56|16.766467065868262|\n",
            "|          2|   13|3.8922155688622757|\n",
            "|          1|    8|2.3952095808383236|\n",
            "+-----------+-----+------------------+\n",
            "\n"
          ],
          "name": "stdout"
        }
      ]
    },
    {
      "cell_type": "code",
      "metadata": {
        "id": "TlIGy19ZJYQ_",
        "outputId": "901277a4-6a4c-413f-9f08-aa4163cdd3c0",
        "colab": {
          "base_uri": "https://localhost:8080/"
        }
      },
      "source": [
        "# Table with star_rating total of not paid\n",
        "percentage_df2 = vine_notpaid_df.groupby(\"star_rating\").agg(count(\"star_rating\")).withColumnRenamed(\"count(star_rating)\",\"total\")\n",
        "percentage_notpaid_df = percentage_df2.orderBy(percentage_df[\"star_rating\"].desc())\n",
        "percentage_notpaid_df.show()"
      ],
      "execution_count": 92,
      "outputs": [
        {
          "output_type": "stream",
          "text": [
            "+-----------+-----+\n",
            "|star_rating|total|\n",
            "+-----------+-----+\n",
            "|          5|32665|\n",
            "|          4|10688|\n",
            "|          3| 5477|\n",
            "|          2| 3592|\n",
            "|          1| 9192|\n",
            "+-----------+-----+\n",
            "\n"
          ],
          "name": "stdout"
        }
      ]
    },
    {
      "cell_type": "code",
      "metadata": {
        "id": "fwOj23MZi4Up",
        "outputId": "1a67724b-84fa-44d0-8830-382588b73202",
        "colab": {
          "base_uri": "https://localhost:8080/"
        }
      },
      "source": [
        "# Total count of not paid 5 star ratings review \n",
        "x = vine_notpaid_df.count()\n",
        "print(x)"
      ],
      "execution_count": 93,
      "outputs": [
        {
          "output_type": "stream",
          "text": [
            "61614\n"
          ],
          "name": "stdout"
        }
      ]
    },
    {
      "cell_type": "code",
      "metadata": {
        "id": "L85sBM17i9hT",
        "outputId": "4c6247b9-2eca-4533-8ee7-ef61720aa9ab",
        "colab": {
          "base_uri": "https://localhost:8080/"
        }
      },
      "source": [
        "# Percentage of not paid 5 star reviews\n",
        "percentage_notpaid_df.withColumn(\"percentage\", percentage_notpaid_df[\"total\"]/x *100).show()"
      ],
      "execution_count": 95,
      "outputs": [
        {
          "output_type": "stream",
          "text": [
            "+-----------+-----+------------------+\n",
            "|star_rating|total|        percentage|\n",
            "+-----------+-----+------------------+\n",
            "|          5|32665| 53.01554841432142|\n",
            "|          4|10688|17.346706917259063|\n",
            "|          3| 5477| 8.889213490440484|\n",
            "|          2| 3592|5.8298438666536825|\n",
            "|          1| 9192|14.918687311325348|\n",
            "+-----------+-----+------------------+\n",
            "\n"
          ],
          "name": "stdout"
        }
      ]
    }
  ]
}